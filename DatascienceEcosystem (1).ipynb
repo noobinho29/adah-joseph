{
 "cells": [
  {
   "cell_type": "markdown",
   "id": "242701d7-41eb-466f-b0f0-b8508f3dc03e",
   "metadata": {},
   "source": [
    "# Data Science Tools and Ecosystem"
   ]
  },
  {
   "cell_type": "markdown",
   "id": "d0fae56f-f8d3-42e9-8949-442d6e8cc0c0",
   "metadata": {},
   "source": [
    "In this notebook, Data Science Tools and Ecosystem are summarized"
   ]
  },
  {
   "cell_type": "markdown",
   "id": "658bc9de-cf5a-40ca-9a10-68f35f13d603",
   "metadata": {},
   "source": [
    "Some of the popular languages that Data Scientists use are:\n",
    "\n",
    "1. Python\n",
    "2. R\n",
    "3. SQL\n",
    "4. Julia\n",
    "5. Scala"
   ]
  },
  {
   "cell_type": "markdown",
   "id": "46b879f0-5c4f-4cd9-a222-05d260ef8d7b",
   "metadata": {},
   "source": [
    "Some of the commonly used libraries used by Data Scientists include:\n",
    "\n",
    "1. Pandas\n",
    "2. NumPy\n",
    "3. Scikit-learn\n",
    "4. Matplotlib\n",
    "5. TensorFlow\n",
    "6. PyTorch\n",
    "7. Seaborn"
   ]
  },
  {
   "cell_type": "markdown",
   "id": "4d35ef2f-1ace-4062-8465-1902647c3e13",
   "metadata": {},
   "source": [
    "| Data Science Tools |\n",
    "|--------------------|\n",
    "| Jupyter Notebook   |\n",
    "| RStudio            |\n",
    "| VS Code            |"
   ]
  },
  {
   "cell_type": "markdown",
   "id": "77fc1edb-aef1-44d3-9584-ab99c8fc4fc3",
   "metadata": {},
   "source": [
    "### Below are a few examples of evaluating arithmetic expressions in Python."
   ]
  },
  {
   "cell_type": "markdown",
   "id": "79ba023c-6bbc-4227-a6fb-a8dc6966c116",
   "metadata": {},
   "source": [
    "# This a simple arithmetic expression to multiply then add integers\n",
    "(3*4) + 5"
   ]
  },
  {
   "cell_type": "markdown",
   "id": "58f787dc-08dc-4824-bfba-863ec2c44234",
   "metadata": {},
   "source": [
    "# This will convert 200 minutes to hours by dividing by 60\n",
    "200 / 60"
   ]
  },
  {
   "cell_type": "markdown",
   "id": "e4e35938-3c12-432e-9b70-7caeb2ab1f61",
   "metadata": {},
   "source": [
    "*Objectives:*\n",
    "* List popular languages for Data Science.\n",
    "* List commonly used libraries for Data Science.\n",
    "* Create a table of popular Data Science tools.\n",
    "* Evaluate basic arithmetic expressions in Python.\n",
    "* Convert units (e.g., minutes to hours) using code."
   ]
  },
  {
   "cell_type": "markdown",
   "id": "4c728e1f-b4b5-4113-9f59-88ab82c34144",
   "metadata": {},
   "source": [
    "## Author\n",
    "Adah Joseph"
   ]
  },
  {
   "cell_type": "markdown",
   "id": "eeebd10d-98f9-4b43-aef5-cdba3d3f3be1",
   "metadata": {},
   "source": []
  },
  {
   "cell_type": "code",
   "execution_count": null,
   "id": "8393255a-928b-4774-9e87-93f6b5a6478e",
   "metadata": {},
   "outputs": [],
   "source": []
  },
  {
   "cell_type": "markdown",
   "id": "95e4d757-c44d-4b98-84f7-2db1215204db",
   "metadata": {},
   "source": []
  }
 ],
 "metadata": {
  "kernelspec": {
   "display_name": "R",
   "language": "R",
   "name": "ir"
  },
  "language_info": {
   "codemirror_mode": "r",
   "file_extension": ".r",
   "mimetype": "text/x-r-source",
   "name": "R",
   "pygments_lexer": "r",
   "version": "4.4.2"
  }
 },
 "nbformat": 4,
 "nbformat_minor": 5
}
